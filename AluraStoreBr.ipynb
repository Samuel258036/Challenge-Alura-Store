{
  "nbformat": 4,
  "nbformat_minor": 0,
  "metadata": {
    "colab": {
      "provenance": [],
      "include_colab_link": true
    },
    "kernelspec": {
      "name": "python3",
      "display_name": "Python 3"
    },
    "language_info": {
      "name": "python"
    }
  },
  "cells": [
    {
      "cell_type": "markdown",
      "metadata": {
        "id": "view-in-github",
        "colab_type": "text"
      },
      "source": [
        "<a href=\"https://colab.research.google.com/github/Samuel258036/Challenge-Alura-Store/blob/main/AluraStoreBr.ipynb\" target=\"_parent\"><img src=\"https://colab.research.google.com/assets/colab-badge.svg\" alt=\"Open In Colab\"/></a>"
      ]
    },
    {
      "cell_type": "markdown",
      "source": [
        "### Importação dos dados\n",
        "\n"
      ],
      "metadata": {
        "id": "RhEdWd9YUR6H"
      }
    },
    {
      "cell_type": "code",
      "execution_count": 244,
      "metadata": {
        "colab": {
          "base_uri": "https://localhost:8080/",
          "height": 293
        },
        "id": "T3EvaeQ_INIL",
        "outputId": "dd3a5e4b-a39b-4ce0-d213-f567d51fec21"
      },
      "outputs": [
        {
          "output_type": "execute_result",
          "data": {
            "text/plain": [
              "                 Produto Categoria do Produto    Preço      Frete  \\\n",
              "0     Assistente virtual          eletronicos   219.08   9.249790   \n",
              "1         Mesa de jantar               moveis   256.35  11.234305   \n",
              "2      Jogo de tabuleiro           brinquedos   279.51  21.262681   \n",
              "3            Micro-ondas     eletrodomesticos  1009.99  54.667344   \n",
              "4  Cadeira de escritório               moveis   446.99  26.964689   \n",
              "\n",
              "  Data da Compra        Vendedor Local da compra  Avaliação da compra  \\\n",
              "0     16/01/2021     Pedro Gomes              SP                    4   \n",
              "1     18/05/2022  Beatriz Moraes              RJ                    1   \n",
              "2     15/03/2021      João Souza              DF                    1   \n",
              "3     03/05/2022      João Souza              RS                    4   \n",
              "4     07/11/2020   Larissa Alves              MG                    5   \n",
              "\n",
              "  Tipo de pagamento  Quantidade de parcelas    lat    lon  \n",
              "0    cartao_credito                       8 -22.19 -48.79  \n",
              "1    cartao_credito                       4 -22.25 -42.66  \n",
              "2    cartao_credito                       1 -15.83 -47.86  \n",
              "3            boleto                       1 -30.17 -53.50  \n",
              "4            boleto                       1 -18.10 -44.38  "
            ],
            "text/html": [
              "\n",
              "  <div id=\"df-e9f764bd-ae1d-4e4f-9194-d72bfabe08b1\" class=\"colab-df-container\">\n",
              "    <div>\n",
              "<style scoped>\n",
              "    .dataframe tbody tr th:only-of-type {\n",
              "        vertical-align: middle;\n",
              "    }\n",
              "\n",
              "    .dataframe tbody tr th {\n",
              "        vertical-align: top;\n",
              "    }\n",
              "\n",
              "    .dataframe thead th {\n",
              "        text-align: right;\n",
              "    }\n",
              "</style>\n",
              "<table border=\"1\" class=\"dataframe\">\n",
              "  <thead>\n",
              "    <tr style=\"text-align: right;\">\n",
              "      <th></th>\n",
              "      <th>Produto</th>\n",
              "      <th>Categoria do Produto</th>\n",
              "      <th>Preço</th>\n",
              "      <th>Frete</th>\n",
              "      <th>Data da Compra</th>\n",
              "      <th>Vendedor</th>\n",
              "      <th>Local da compra</th>\n",
              "      <th>Avaliação da compra</th>\n",
              "      <th>Tipo de pagamento</th>\n",
              "      <th>Quantidade de parcelas</th>\n",
              "      <th>lat</th>\n",
              "      <th>lon</th>\n",
              "    </tr>\n",
              "  </thead>\n",
              "  <tbody>\n",
              "    <tr>\n",
              "      <th>0</th>\n",
              "      <td>Assistente virtual</td>\n",
              "      <td>eletronicos</td>\n",
              "      <td>219.08</td>\n",
              "      <td>9.249790</td>\n",
              "      <td>16/01/2021</td>\n",
              "      <td>Pedro Gomes</td>\n",
              "      <td>SP</td>\n",
              "      <td>4</td>\n",
              "      <td>cartao_credito</td>\n",
              "      <td>8</td>\n",
              "      <td>-22.19</td>\n",
              "      <td>-48.79</td>\n",
              "    </tr>\n",
              "    <tr>\n",
              "      <th>1</th>\n",
              "      <td>Mesa de jantar</td>\n",
              "      <td>moveis</td>\n",
              "      <td>256.35</td>\n",
              "      <td>11.234305</td>\n",
              "      <td>18/05/2022</td>\n",
              "      <td>Beatriz Moraes</td>\n",
              "      <td>RJ</td>\n",
              "      <td>1</td>\n",
              "      <td>cartao_credito</td>\n",
              "      <td>4</td>\n",
              "      <td>-22.25</td>\n",
              "      <td>-42.66</td>\n",
              "    </tr>\n",
              "    <tr>\n",
              "      <th>2</th>\n",
              "      <td>Jogo de tabuleiro</td>\n",
              "      <td>brinquedos</td>\n",
              "      <td>279.51</td>\n",
              "      <td>21.262681</td>\n",
              "      <td>15/03/2021</td>\n",
              "      <td>João Souza</td>\n",
              "      <td>DF</td>\n",
              "      <td>1</td>\n",
              "      <td>cartao_credito</td>\n",
              "      <td>1</td>\n",
              "      <td>-15.83</td>\n",
              "      <td>-47.86</td>\n",
              "    </tr>\n",
              "    <tr>\n",
              "      <th>3</th>\n",
              "      <td>Micro-ondas</td>\n",
              "      <td>eletrodomesticos</td>\n",
              "      <td>1009.99</td>\n",
              "      <td>54.667344</td>\n",
              "      <td>03/05/2022</td>\n",
              "      <td>João Souza</td>\n",
              "      <td>RS</td>\n",
              "      <td>4</td>\n",
              "      <td>boleto</td>\n",
              "      <td>1</td>\n",
              "      <td>-30.17</td>\n",
              "      <td>-53.50</td>\n",
              "    </tr>\n",
              "    <tr>\n",
              "      <th>4</th>\n",
              "      <td>Cadeira de escritório</td>\n",
              "      <td>moveis</td>\n",
              "      <td>446.99</td>\n",
              "      <td>26.964689</td>\n",
              "      <td>07/11/2020</td>\n",
              "      <td>Larissa Alves</td>\n",
              "      <td>MG</td>\n",
              "      <td>5</td>\n",
              "      <td>boleto</td>\n",
              "      <td>1</td>\n",
              "      <td>-18.10</td>\n",
              "      <td>-44.38</td>\n",
              "    </tr>\n",
              "  </tbody>\n",
              "</table>\n",
              "</div>\n",
              "    <div class=\"colab-df-buttons\">\n",
              "\n",
              "  <div class=\"colab-df-container\">\n",
              "    <button class=\"colab-df-convert\" onclick=\"convertToInteractive('df-e9f764bd-ae1d-4e4f-9194-d72bfabe08b1')\"\n",
              "            title=\"Convert this dataframe to an interactive table.\"\n",
              "            style=\"display:none;\">\n",
              "\n",
              "  <svg xmlns=\"http://www.w3.org/2000/svg\" height=\"24px\" viewBox=\"0 -960 960 960\">\n",
              "    <path d=\"M120-120v-720h720v720H120Zm60-500h600v-160H180v160Zm220 220h160v-160H400v160Zm0 220h160v-160H400v160ZM180-400h160v-160H180v160Zm440 0h160v-160H620v160ZM180-180h160v-160H180v160Zm440 0h160v-160H620v160Z\"/>\n",
              "  </svg>\n",
              "    </button>\n",
              "\n",
              "  <style>\n",
              "    .colab-df-container {\n",
              "      display:flex;\n",
              "      gap: 12px;\n",
              "    }\n",
              "\n",
              "    .colab-df-convert {\n",
              "      background-color: #E8F0FE;\n",
              "      border: none;\n",
              "      border-radius: 50%;\n",
              "      cursor: pointer;\n",
              "      display: none;\n",
              "      fill: #1967D2;\n",
              "      height: 32px;\n",
              "      padding: 0 0 0 0;\n",
              "      width: 32px;\n",
              "    }\n",
              "\n",
              "    .colab-df-convert:hover {\n",
              "      background-color: #E2EBFA;\n",
              "      box-shadow: 0px 1px 2px rgba(60, 64, 67, 0.3), 0px 1px 3px 1px rgba(60, 64, 67, 0.15);\n",
              "      fill: #174EA6;\n",
              "    }\n",
              "\n",
              "    .colab-df-buttons div {\n",
              "      margin-bottom: 4px;\n",
              "    }\n",
              "\n",
              "    [theme=dark] .colab-df-convert {\n",
              "      background-color: #3B4455;\n",
              "      fill: #D2E3FC;\n",
              "    }\n",
              "\n",
              "    [theme=dark] .colab-df-convert:hover {\n",
              "      background-color: #434B5C;\n",
              "      box-shadow: 0px 1px 3px 1px rgba(0, 0, 0, 0.15);\n",
              "      filter: drop-shadow(0px 1px 2px rgba(0, 0, 0, 0.3));\n",
              "      fill: #FFFFFF;\n",
              "    }\n",
              "  </style>\n",
              "\n",
              "    <script>\n",
              "      const buttonEl =\n",
              "        document.querySelector('#df-e9f764bd-ae1d-4e4f-9194-d72bfabe08b1 button.colab-df-convert');\n",
              "      buttonEl.style.display =\n",
              "        google.colab.kernel.accessAllowed ? 'block' : 'none';\n",
              "\n",
              "      async function convertToInteractive(key) {\n",
              "        const element = document.querySelector('#df-e9f764bd-ae1d-4e4f-9194-d72bfabe08b1');\n",
              "        const dataTable =\n",
              "          await google.colab.kernel.invokeFunction('convertToInteractive',\n",
              "                                                    [key], {});\n",
              "        if (!dataTable) return;\n",
              "\n",
              "        const docLinkHtml = 'Like what you see? Visit the ' +\n",
              "          '<a target=\"_blank\" href=https://colab.research.google.com/notebooks/data_table.ipynb>data table notebook</a>'\n",
              "          + ' to learn more about interactive tables.';\n",
              "        element.innerHTML = '';\n",
              "        dataTable['output_type'] = 'display_data';\n",
              "        await google.colab.output.renderOutput(dataTable, element);\n",
              "        const docLink = document.createElement('div');\n",
              "        docLink.innerHTML = docLinkHtml;\n",
              "        element.appendChild(docLink);\n",
              "      }\n",
              "    </script>\n",
              "  </div>\n",
              "\n",
              "\n",
              "    <div id=\"df-1c9e89a8-ddb0-4b41-92af-f2c5fbb9d02d\">\n",
              "      <button class=\"colab-df-quickchart\" onclick=\"quickchart('df-1c9e89a8-ddb0-4b41-92af-f2c5fbb9d02d')\"\n",
              "                title=\"Suggest charts\"\n",
              "                style=\"display:none;\">\n",
              "\n",
              "<svg xmlns=\"http://www.w3.org/2000/svg\" height=\"24px\"viewBox=\"0 0 24 24\"\n",
              "     width=\"24px\">\n",
              "    <g>\n",
              "        <path d=\"M19 3H5c-1.1 0-2 .9-2 2v14c0 1.1.9 2 2 2h14c1.1 0 2-.9 2-2V5c0-1.1-.9-2-2-2zM9 17H7v-7h2v7zm4 0h-2V7h2v10zm4 0h-2v-4h2v4z\"/>\n",
              "    </g>\n",
              "</svg>\n",
              "      </button>\n",
              "\n",
              "<style>\n",
              "  .colab-df-quickchart {\n",
              "      --bg-color: #E8F0FE;\n",
              "      --fill-color: #1967D2;\n",
              "      --hover-bg-color: #E2EBFA;\n",
              "      --hover-fill-color: #174EA6;\n",
              "      --disabled-fill-color: #AAA;\n",
              "      --disabled-bg-color: #DDD;\n",
              "  }\n",
              "\n",
              "  [theme=dark] .colab-df-quickchart {\n",
              "      --bg-color: #3B4455;\n",
              "      --fill-color: #D2E3FC;\n",
              "      --hover-bg-color: #434B5C;\n",
              "      --hover-fill-color: #FFFFFF;\n",
              "      --disabled-bg-color: #3B4455;\n",
              "      --disabled-fill-color: #666;\n",
              "  }\n",
              "\n",
              "  .colab-df-quickchart {\n",
              "    background-color: var(--bg-color);\n",
              "    border: none;\n",
              "    border-radius: 50%;\n",
              "    cursor: pointer;\n",
              "    display: none;\n",
              "    fill: var(--fill-color);\n",
              "    height: 32px;\n",
              "    padding: 0;\n",
              "    width: 32px;\n",
              "  }\n",
              "\n",
              "  .colab-df-quickchart:hover {\n",
              "    background-color: var(--hover-bg-color);\n",
              "    box-shadow: 0 1px 2px rgba(60, 64, 67, 0.3), 0 1px 3px 1px rgba(60, 64, 67, 0.15);\n",
              "    fill: var(--button-hover-fill-color);\n",
              "  }\n",
              "\n",
              "  .colab-df-quickchart-complete:disabled,\n",
              "  .colab-df-quickchart-complete:disabled:hover {\n",
              "    background-color: var(--disabled-bg-color);\n",
              "    fill: var(--disabled-fill-color);\n",
              "    box-shadow: none;\n",
              "  }\n",
              "\n",
              "  .colab-df-spinner {\n",
              "    border: 2px solid var(--fill-color);\n",
              "    border-color: transparent;\n",
              "    border-bottom-color: var(--fill-color);\n",
              "    animation:\n",
              "      spin 1s steps(1) infinite;\n",
              "  }\n",
              "\n",
              "  @keyframes spin {\n",
              "    0% {\n",
              "      border-color: transparent;\n",
              "      border-bottom-color: var(--fill-color);\n",
              "      border-left-color: var(--fill-color);\n",
              "    }\n",
              "    20% {\n",
              "      border-color: transparent;\n",
              "      border-left-color: var(--fill-color);\n",
              "      border-top-color: var(--fill-color);\n",
              "    }\n",
              "    30% {\n",
              "      border-color: transparent;\n",
              "      border-left-color: var(--fill-color);\n",
              "      border-top-color: var(--fill-color);\n",
              "      border-right-color: var(--fill-color);\n",
              "    }\n",
              "    40% {\n",
              "      border-color: transparent;\n",
              "      border-right-color: var(--fill-color);\n",
              "      border-top-color: var(--fill-color);\n",
              "    }\n",
              "    60% {\n",
              "      border-color: transparent;\n",
              "      border-right-color: var(--fill-color);\n",
              "    }\n",
              "    80% {\n",
              "      border-color: transparent;\n",
              "      border-right-color: var(--fill-color);\n",
              "      border-bottom-color: var(--fill-color);\n",
              "    }\n",
              "    90% {\n",
              "      border-color: transparent;\n",
              "      border-bottom-color: var(--fill-color);\n",
              "    }\n",
              "  }\n",
              "</style>\n",
              "\n",
              "      <script>\n",
              "        async function quickchart(key) {\n",
              "          const quickchartButtonEl =\n",
              "            document.querySelector('#' + key + ' button');\n",
              "          quickchartButtonEl.disabled = true;  // To prevent multiple clicks.\n",
              "          quickchartButtonEl.classList.add('colab-df-spinner');\n",
              "          try {\n",
              "            const charts = await google.colab.kernel.invokeFunction(\n",
              "                'suggestCharts', [key], {});\n",
              "          } catch (error) {\n",
              "            console.error('Error during call to suggestCharts:', error);\n",
              "          }\n",
              "          quickchartButtonEl.classList.remove('colab-df-spinner');\n",
              "          quickchartButtonEl.classList.add('colab-df-quickchart-complete');\n",
              "        }\n",
              "        (() => {\n",
              "          let quickchartButtonEl =\n",
              "            document.querySelector('#df-1c9e89a8-ddb0-4b41-92af-f2c5fbb9d02d button');\n",
              "          quickchartButtonEl.style.display =\n",
              "            google.colab.kernel.accessAllowed ? 'block' : 'none';\n",
              "        })();\n",
              "      </script>\n",
              "    </div>\n",
              "\n",
              "    </div>\n",
              "  </div>\n"
            ],
            "application/vnd.google.colaboratory.intrinsic+json": {
              "type": "dataframe",
              "variable_name": "loja",
              "summary": "{\n  \"name\": \"loja\",\n  \"rows\": 2359,\n  \"fields\": [\n    {\n      \"column\": \"Produto\",\n      \"properties\": {\n        \"dtype\": \"category\",\n        \"num_unique_values\": 51,\n        \"samples\": [\n          \"Viol\\u00e3o\",\n          \"Bola de basquete\",\n          \"Smartwatch\"\n        ],\n        \"semantic_type\": \"\",\n        \"description\": \"\"\n      }\n    },\n    {\n      \"column\": \"Categoria do Produto\",\n      \"properties\": {\n        \"dtype\": \"category\",\n        \"num_unique_values\": 8,\n        \"samples\": [\n          \"moveis\",\n          \"esporte e lazer\",\n          \"eletronicos\"\n        ],\n        \"semantic_type\": \"\",\n        \"description\": \"\"\n      }\n    },\n    {\n      \"column\": \"Pre\\u00e7o\",\n      \"properties\": {\n        \"dtype\": \"number\",\n        \"std\": 819.5827782539145,\n        \"min\": 10.07,\n        \"max\": 3969.38,\n        \"num_unique_values\": 2315,\n        \"samples\": [\n          446.11,\n          107.31,\n          65.86\n        ],\n        \"semantic_type\": \"\",\n        \"description\": \"\"\n      }\n    },\n    {\n      \"column\": \"Frete\",\n      \"properties\": {\n        \"dtype\": \"number\",\n        \"std\": 43.814183327408166,\n        \"min\": 0.0,\n        \"max\": 214.3770604781,\n        \"num_unique_values\": 2149,\n        \"samples\": [\n          83.815279607,\n          16.069664669,\n          14.0344876928\n        ],\n        \"semantic_type\": \"\",\n        \"description\": \"\"\n      }\n    },\n    {\n      \"column\": \"Data da Compra\",\n      \"properties\": {\n        \"dtype\": \"object\",\n        \"num_unique_values\": 1018,\n        \"samples\": [\n          \"15/09/2022\",\n          \"03/06/2020\",\n          \"06/11/2021\"\n        ],\n        \"semantic_type\": \"\",\n        \"description\": \"\"\n      }\n    },\n    {\n      \"column\": \"Vendedor\",\n      \"properties\": {\n        \"dtype\": \"category\",\n        \"num_unique_values\": 14,\n        \"samples\": [\n          \"Juliana Costa\",\n          \"Mariana Ferreira\",\n          \"Pedro Gomes\"\n        ],\n        \"semantic_type\": \"\",\n        \"description\": \"\"\n      }\n    },\n    {\n      \"column\": \"Local da compra\",\n      \"properties\": {\n        \"dtype\": \"category\",\n        \"num_unique_values\": 26,\n        \"samples\": [\n          \"TO\",\n          \"RN\",\n          \"SP\"\n        ],\n        \"semantic_type\": \"\",\n        \"description\": \"\"\n      }\n    },\n    {\n      \"column\": \"Avalia\\u00e7\\u00e3o da compra\",\n      \"properties\": {\n        \"dtype\": \"number\",\n        \"std\": 1,\n        \"min\": 1,\n        \"max\": 5,\n        \"num_unique_values\": 5,\n        \"samples\": [\n          1,\n          2,\n          5\n        ],\n        \"semantic_type\": \"\",\n        \"description\": \"\"\n      }\n    },\n    {\n      \"column\": \"Tipo de pagamento\",\n      \"properties\": {\n        \"dtype\": \"category\",\n        \"num_unique_values\": 4,\n        \"samples\": [\n          \"boleto\",\n          \"cartao_debito\",\n          \"cartao_credito\"\n        ],\n        \"semantic_type\": \"\",\n        \"description\": \"\"\n      }\n    },\n    {\n      \"column\": \"Quantidade de parcelas\",\n      \"properties\": {\n        \"dtype\": \"number\",\n        \"std\": 2,\n        \"min\": 1,\n        \"max\": 24,\n        \"num_unique_values\": 15,\n        \"samples\": [\n          7,\n          14,\n          8\n        ],\n        \"semantic_type\": \"\",\n        \"description\": \"\"\n      }\n    },\n    {\n      \"column\": \"lat\",\n      \"properties\": {\n        \"dtype\": \"number\",\n        \"std\": 5.372399916530833,\n        \"min\": -30.17,\n        \"max\": 1.41,\n        \"num_unique_values\": 26,\n        \"samples\": [\n          -9.46,\n          -5.81,\n          -22.19\n        ],\n        \"semantic_type\": \"\",\n        \"description\": \"\"\n      }\n    },\n    {\n      \"column\": \"lon\",\n      \"properties\": {\n        \"dtype\": \"number\",\n        \"std\": 4.183180020544179,\n        \"min\": -70.55,\n        \"max\": -36.59,\n        \"num_unique_values\": 26,\n        \"samples\": [\n          -48.26,\n          -36.59,\n          -48.79\n        ],\n        \"semantic_type\": \"\",\n        \"description\": \"\"\n      }\n    }\n  ]\n}"
            }
          },
          "metadata": {},
          "execution_count": 244
        }
      ],
      "source": [
        "import pandas as pd # Importa a biblioteca pandas para manipulação de dados\n",
        "\n",
        "# URLs dos arquivos CSV para cada loja\n",
        "url = \"https://raw.githubusercontent.com/alura-es-cursos/challenge1-data-science/refs/heads/main/base-de-dados-challenge-1/loja_1.csv\"\n",
        "url2 = \"https://raw.githubusercontent.com/alura-es-cursos/challenge1-data-science/refs/heads/main/base-de-dados-challenge-1/loja_2.csv\"\n",
        "url3 = \"https://raw.githubusercontent.com/alura-es-cursos/challenge1-data-science/refs/heads/main/base-de-dados-challenge-1/loja_3.csv\"\n",
        "url4 = \"https://raw.githubusercontent.com/alura-es-cursos/challenge1-data-science/refs/heads/main/base-de-dados-challenge-1/loja_4.csv\"\n",
        "\n",
        "# Carrega os dados de cada URL em DataFrames pandas\n",
        "loja = pd.read_csv(url)\n",
        "loja2 = pd.read_csv(url2)\n",
        "loja3 = pd.read_csv(url3)\n",
        "loja4 = pd.read_csv(url4)\n",
        "\n",
        "# Exibe as primeiras linhas do DataFrame da loja 1 para verificar o carregamento\n",
        "loja.head()"
      ]
    },
    {
      "cell_type": "markdown",
      "source": [
        "#1. Análise do faturamento\n"
      ],
      "metadata": {
        "id": "X62IW3KFUIYm"
      }
    },
    {
      "cell_type": "code",
      "source": [
        "# Define uma função para calcular o faturamento total de uma loja\n",
        "def faturamento(loja):\n",
        "  preco = loja['Preço'] # Seleciona a coluna 'Preço' do DataFrame da loja\n",
        "  return round(sum(preco), 2) # Calcula a soma dos preços e arredonda para 2 casas decimais"
      ],
      "metadata": {
        "id": "xykobSftV64I",
        "collapsed": true
      },
      "execution_count": 165,
      "outputs": []
    },
    {
      "cell_type": "code",
      "source": [
        "# Calcula e imprime o faturamento de cada loja usando a função faturamento\n",
        "print(f'Faturamento da Loja 1: {faturamento(loja)}')\n",
        "print(f'Faturamento da Loja 2: {faturamento(loja2)}')\n",
        "print(f'Faturamento da Loja 3: {faturamento(loja3)}')\n",
        "print(f'Faturamento da Loja 4: {faturamento(loja4)}')"
      ],
      "metadata": {
        "id": "KDyr8E71V3m-",
        "colab": {
          "base_uri": "https://localhost:8080/"
        },
        "outputId": "12521d6c-9ef2-4055-c8d3-51645fb0257c"
      },
      "execution_count": 166,
      "outputs": [
        {
          "output_type": "stream",
          "name": "stdout",
          "text": [
            "Faturamento da Loja 1: 1534509.12\n",
            "Faturamento da Loja 2: 1488459.06\n",
            "Faturamento da Loja 3: 1464025.03\n",
            "Faturamento da Loja 4: 1384497.58\n"
          ]
        }
      ]
    },
    {
      "cell_type": "markdown",
      "source": [
        "# 2. Vendas por Categoria\n"
      ],
      "metadata": {
        "id": "2V_vcAPzWZmR"
      }
    },
    {
      "cell_type": "code",
      "source": [
        "# Define uma função para contar a ocorrência de cada categoria de produto em uma loja\n",
        "def venda_categoria(loja):\n",
        "  venda = loja['Categoria do Produto'].value_counts() # Conta os valores únicos na coluna 'Categoria do Produto'\n",
        "  return venda # Retorna a contagem de vendas por categoria"
      ],
      "metadata": {
        "id": "A34YupIuYhfF"
      },
      "execution_count": 180,
      "outputs": []
    },
    {
      "cell_type": "code",
      "source": [
        "lojas = [loja, loja2, loja3, loja4] # Cria uma lista contendo todos os DataFrames das lojas\n",
        "\n",
        "# Obtém as categorias únicas de produto (apenas da loja 1 neste caso específico)\n",
        "# Nota: A list comprehension [loja] fará com que apenas as categorias da primeira loja sejam consideradas.\n",
        "# Para obter as categorias únicas de todas as lojas combinadas, seria necessário concatenar antes ou iterar sobre 'lojas'.\n",
        "categorias = [loja['Categoria do Produto'].unique() for loja in [loja]]\n",
        "\n",
        "print(categorias) # Imprime as categorias únicas encontradas"
      ],
      "metadata": {
        "colab": {
          "base_uri": "https://localhost:8080/"
        },
        "id": "sgV6WhAZKM0c",
        "outputId": "a1fde583-2508-4367-f733-208395a57df3"
      },
      "execution_count": 205,
      "outputs": [
        {
          "output_type": "stream",
          "name": "stdout",
          "text": [
            "[array(['eletrodomesticos', 'moveis', 'esporte e lazer', 'livros',\n",
            "       'eletronicos', 'instrumentos musicais', 'brinquedos',\n",
            "       'utilidades domesticas'], dtype=object)]\n"
          ]
        }
      ]
    },
    {
      "cell_type": "code",
      "source": [
        "# Imprime a contagem de vendas por categoria para cada loja usando a função venda_categoria\n",
        "print('loja1')\n",
        "print(venda_categoria(loja))\n",
        "\n",
        "print('\\nloja2')\n",
        "print(venda_categoria(loja2))\n",
        "\n",
        "print('\\nloja3')\n",
        "print(venda_categoria(loja3))\n",
        "\n",
        "print('\\nloja4')\n",
        "print(venda_categoria(loja4))"
      ],
      "metadata": {
        "id": "yZR6cOjXYSk1",
        "colab": {
          "base_uri": "https://localhost:8080/"
        },
        "outputId": "a3e8142f-55b9-49c1-c474-b6a33abffba0"
      },
      "execution_count": 181,
      "outputs": [
        {
          "output_type": "stream",
          "name": "stdout",
          "text": [
            "loja1\n",
            "Categoria do Produto\n",
            "moveis                   465\n",
            "eletronicos              448\n",
            "brinquedos               324\n",
            "eletrodomesticos         312\n",
            "esporte e lazer          284\n",
            "instrumentos musicais    182\n",
            "livros                   173\n",
            "utilidades domesticas    171\n",
            "Name: count, dtype: int64\n",
            "\n",
            "loja2\n",
            "Categoria do Produto\n",
            "moveis                   442\n",
            "eletronicos              422\n",
            "brinquedos               313\n",
            "eletrodomesticos         305\n",
            "esporte e lazer          275\n",
            "instrumentos musicais    224\n",
            "livros                   197\n",
            "utilidades domesticas    181\n",
            "Name: count, dtype: int64\n",
            "\n",
            "loja3\n",
            "Categoria do Produto\n",
            "moveis                   499\n",
            "eletronicos              451\n",
            "brinquedos               315\n",
            "eletrodomesticos         278\n",
            "esporte e lazer          277\n",
            "livros                   185\n",
            "instrumentos musicais    177\n",
            "utilidades domesticas    177\n",
            "Name: count, dtype: int64\n",
            "\n",
            "loja4\n",
            "Categoria do Produto\n",
            "moveis                   480\n",
            "eletronicos              451\n",
            "brinquedos               338\n",
            "esporte e lazer          277\n",
            "eletrodomesticos         254\n",
            "utilidades domesticas    201\n",
            "livros                   187\n",
            "instrumentos musicais    170\n",
            "Name: count, dtype: int64\n"
          ]
        }
      ]
    },
    {
      "cell_type": "markdown",
      "source": [
        "# 3. Média de Avaliação das Lojas"
      ],
      "metadata": {
        "id": "Rq6tU_xSY3jk"
      }
    },
    {
      "cell_type": "code",
      "source": [
        "# Define uma função para calcular a média das avaliações de compra de uma loja\n",
        "def media_avaliacao(loja):\n",
        "  media = loja['Avaliação da compra'].mean() # Calcula a média da coluna 'Avaliação da compra'\n",
        "  return round(media, 2) # Retorna a média arredondada para 2 casas decimais"
      ],
      "metadata": {
        "id": "bh3jjjJwY5MU"
      },
      "execution_count": 169,
      "outputs": []
    },
    {
      "cell_type": "code",
      "source": [
        "# Calcula e imprime a média das avaliações para cada loja usando a função media_avaliacao\n",
        "print(f'A media das avaliações da loja1: {media_avaliacao(loja)}')\n",
        "print(f'A media das avaliações da loja2: {media_avaliacao(loja2)}')\n",
        "print(f'A media das avaliações da loja3: {media_avaliacao(loja3)}')\n",
        "print(f'A media das avaliações da loja4: {media_avaliacao(loja4)}')"
      ],
      "metadata": {
        "id": "I0KkjPoTY88F",
        "colab": {
          "base_uri": "https://localhost:8080/"
        },
        "outputId": "29143b8c-b52a-4908-ec7c-e39a634c24c9"
      },
      "execution_count": 170,
      "outputs": [
        {
          "output_type": "stream",
          "name": "stdout",
          "text": [
            "A media das avaliações da loja1: 3.98\n",
            "A media das avaliações da loja2: 4.04\n",
            "A media das avaliações da loja3: 4.05\n",
            "A media das avaliações da loja4: 4.0\n"
          ]
        }
      ]
    },
    {
      "cell_type": "markdown",
      "source": [
        "# 4. Produtos Mais e Menos Vendidos"
      ],
      "metadata": {
        "id": "DmNp1KPBZCm-"
      }
    },
    {
      "cell_type": "code",
      "source": [
        "# Define uma função para encontrar os 3 produtos mais vendidos em uma loja\n",
        "def mais_vendido(loja):\n",
        "  mais_vendido = loja['Produto'].value_counts().head(3) # Conta a ocorrência de cada produto e pega os 3 primeiros (mais frequentes)\n",
        "  return mais_vendido # Retorna os 3 produtos mais vendidos\n",
        "\n",
        "# Define uma função para encontrar os 3 produtos menos vendidos em uma loja\n",
        "def menos_vendido(loja):\n",
        "  menos_vendido = loja['Produto'].value_counts().tail(3) # Conta a ocorrência de cada produto e pega os 3 últimos (menos frequentes)\n",
        "  return menos_vendido # Retorna os 3 produtos menos vendidos"
      ],
      "metadata": {
        "id": "qoyjqijQZHfF"
      },
      "execution_count": 171,
      "outputs": []
    },
    {
      "cell_type": "code",
      "source": [
        "# Imprime os produtos mais e menos vendidos para cada loja usando as funções definidas\n",
        "print(f'o produto mais vendido da loja 1: {mais_vendido(loja)}')\n",
        "print(f'o produto menos vendido da loja 1: {menos_vendido(loja)}')\n",
        "\n",
        "print('\\n')\n",
        "\n",
        "print(f'\\no produto mais vendido da loja 2: {mais_vendido(loja2)}')\n",
        "print(f'o produto menos vendido da loja 2: {menos_vendido(loja2)}')\n",
        "\n",
        "print('\\n')\n",
        "\n",
        "print(f'\\no produto mais vendido da loja 3: {mais_vendido(loja3)}')\n",
        "print(f'o produto menos vendido da loja 3: {menos_vendido(loja3)}')\n",
        "\n",
        "print('\\n')\n",
        "\n",
        "print(f'\\no produto mais vendido da loja 4: {mais_vendido(loja4)}')\n",
        "print(f'o produto menos vendido da loja 4: {menos_vendido(loja4)}')"
      ],
      "metadata": {
        "id": "0Sw3sd4IZIGW",
        "colab": {
          "base_uri": "https://localhost:8080/"
        },
        "outputId": "edec8d7b-8ce1-407c-dec7-1a565abb9019"
      },
      "execution_count": 172,
      "outputs": [
        {
          "output_type": "stream",
          "name": "stdout",
          "text": [
            "o produto mais vendido da loja 1: Produto\n",
            "Micro-ondas      60\n",
            "TV Led UHD 4K    60\n",
            "Guarda roupas    60\n",
            "Name: count, dtype: int64\n",
            "o produto menos vendido da loja 1: Produto\n",
            "Panela de pressão    35\n",
            "Headset              33\n",
            "Celular ABXY         33\n",
            "Name: count, dtype: int64\n",
            "\n",
            "\n",
            "\n",
            "o produto mais vendido da loja 2: Produto\n",
            "Iniciando em programação    65\n",
            "Micro-ondas                 62\n",
            "Bateria                     61\n",
            "Name: count, dtype: int64\n",
            "o produto menos vendido da loja 2: Produto\n",
            "Mesa de jantar       34\n",
            "Impressora           34\n",
            "Jogo de tabuleiro    32\n",
            "Name: count, dtype: int64\n",
            "\n",
            "\n",
            "\n",
            "o produto mais vendido da loja 3: Produto\n",
            "Kit banquetas     57\n",
            "Mesa de jantar    56\n",
            "Cama king         56\n",
            "Name: count, dtype: int64\n",
            "o produto menos vendido da loja 3: Produto\n",
            "Mochila             36\n",
            "Micro-ondas         36\n",
            "Blocos de montar    35\n",
            "Name: count, dtype: int64\n",
            "\n",
            "\n",
            "\n",
            "o produto mais vendido da loja 4: Produto\n",
            "Cama box                   62\n",
            "Faqueiro                   59\n",
            "Dashboards com Power BI    56\n",
            "Name: count, dtype: int64\n",
            "o produto menos vendido da loja 4: Produto\n",
            "Violão           37\n",
            "Guarda roupas    34\n",
            "Guitarra         33\n",
            "Name: count, dtype: int64\n"
          ]
        }
      ]
    },
    {
      "cell_type": "markdown",
      "source": [
        "# 5. Frete Médio por Loja\n"
      ],
      "metadata": {
        "id": "Fl0cGi3bZKqU"
      }
    },
    {
      "cell_type": "code",
      "source": [
        "# Define uma função para calcular o frete médio de uma loja\n",
        "def frete_medio(loja):\n",
        "  frete_medio = loja['Frete'].mean() # Calcula a média da coluna 'Frete'\n",
        "  return round(frete_medio, 2) # Retorna a média arredondada para 2 casas decimais"
      ],
      "metadata": {
        "id": "S2JeaCykZNy9"
      },
      "execution_count": 173,
      "outputs": []
    },
    {
      "cell_type": "code",
      "source": [
        "# Calcula e imprime o frete médio para cada loja usando a função frete_medio\n",
        "print(f'O frete médio da loja 1: R${frete_medio(loja)} reais')\n",
        "print(f'O frete médio da loja 2: R${frete_medio(loja2)} reais')\n",
        "print(f'O frete médio da loja 3: R${frete_medio(loja3)} reais')\n",
        "print(f'O frete médio da loja 4: R${frete_medio(loja4)} reais')"
      ],
      "metadata": {
        "id": "0tSdCie9ZQlt",
        "colab": {
          "base_uri": "https://localhost:8080/"
        },
        "outputId": "90d09299-dc98-41ae-a8ed-a85ba6f36af1"
      },
      "execution_count": 174,
      "outputs": [
        {
          "output_type": "stream",
          "name": "stdout",
          "text": [
            "O frete médio da loja 1: R$34.69 reais\n",
            "O frete médio da loja 2: R$33.62 reais\n",
            "O frete médio da loja 3: R$33.07 reais\n",
            "O frete médio da loja 4: R$31.28 reais\n"
          ]
        }
      ]
    },
    {
      "cell_type": "markdown",
      "source": [
        "## Gráficos"
      ],
      "metadata": {
        "id": "amO5isOvUVZ4"
      }
    },
    {
      "cell_type": "code",
      "source": [
        "import matplotlib.pyplot as plt # Importa a biblioteca matplotlib para criação de gráficos\n",
        "\n",
        "# Calcula o faturamento de cada loja e armazena em uma lista\n",
        "faturamentos = [faturamento(loja), faturamento(loja2), faturamento(loja3), faturamento(loja4)]\n",
        "lojas = ['Loja 1', 'Loja 2', 'Loja 3', 'Loja 4'] # Lista com os nomes das lojas para os rótulos do gráfico\n",
        "\n",
        "# Cria um gráfico de barras\n",
        "plt.bar(lojas, faturamentos) # Eixo x: nomes das lojas, Eixo y: valores de faturamento\n",
        "plt.xlabel('Loja') # Rótulo do eixo x\n",
        "plt.ylabel('Faturamento') # Rótulo do eixo y\n",
        "plt.title('Faturamento por Loja') # Título do gráfico\n",
        "\n",
        "plt.show() # Exibe o gráfico"
      ],
      "metadata": {
        "colab": {
          "base_uri": "https://localhost:8080/",
          "height": 472
        },
        "id": "-TK3LUUJFBih",
        "outputId": "1d5a9825-6ef7-464f-fbdf-0eb093b93cdb"
      },
      "execution_count": 178,
      "outputs": [
        {
          "output_type": "display_data",
          "data": {
            "text/plain": [
              "<Figure size 640x480 with 1 Axes>"
            ],
            "image/png": "[encoded data removed]"
          },
          "metadata": {}
        }
      ]
    },
    {
      "cell_type": "code",
      "source": [
        "# Calcula as categorias únicas e a porcentagem de vendas por categoria para a loja 1\n",
        "# Nota: Este código foi ajustado anteriormente para gerar gráficos de pizza para cada loja em outra célula.\n",
        "# Este trecho específico parece ser uma versão anterior que focava apenas na loja 1.\n",
        "categorias = [loja['Categoria do Produto'].unique() for loja in [loja]]\n",
        "size = [loja['Categoria do Produto'].value_counts(normalize=True) * 100 for loja in [loja]]\n",
        "\n",
        "# Cria um gráfico de pizza para a loja 1\n",
        "plt.pie(size[0], labels=categorias[0], autopct='%1.1f%%') # size[0] são as porcentagens, labels[0] são as categorias\n",
        "plt.title('Porcentagem de vendas por categoria da loja 1') # Título do gráfico\n",
        "plt.axis('equal'); # Garante que o gráfico de pizza seja um círculo"
      ],
      "metadata": {
        "colab": {
          "base_uri": "https://localhost:8080/",
          "height": 429
        },
        "id": "RbGB5jq-GXiJ",
        "outputId": "560b6224-309c-47b0-dd57-8ec971d847a6"
      },
      "execution_count": 222,
      "outputs": [
        {
          "output_type": "display_data",
          "data": {
            "text/plain": [
              "<Figure size 640x480 with 1 Axes>"
            ],
            "image/png": "[encoded data removed]"
          },
          "metadata": {}
        }
      ]
    },
    {
      "cell_type": "code",
      "source": [
        "import matplotlib.pyplot as plt # Importa a biblioteca matplotlib\n",
        "\n",
        "lojas = [loja, loja2, loja3, loja4] # Lista de DataFrames das lojas\n",
        "nomes_lojas = ['Loja 1', 'Loja 2', 'Loja 3', 'Loja 4'] # Lista com os nomes das lojas\n",
        "\n",
        "# Loop para gerar gráficos de pizza para cada loja\n",
        "for i, current_loja in enumerate(lojas):\n",
        "  plt.figure(figsize=(8, 8)) # Cria uma nova figura para cada gráfico de pizza\n",
        "  size = current_loja['Categoria do Produto'].value_counts(normalize=True) * 100 # Calcula a porcentagem de vendas por categoria para a loja atual\n",
        "  categorias = current_loja['Categoria do Produto'].unique() # Obtém as categorias únicas da loja atual\n",
        "\n",
        "  plt.pie(size, labels=categorias, autopct='%1.1f%%') # Cria o gráfico de pizza\n",
        "  plt.title(f'Porcentagem de vendas por categoria da {nomes_lojas[i]}') # Define o título do gráfico com o nome da loja\n",
        "  plt.axis('equal'); # Garante que o gráfico de pizza seja um círculo\n",
        "  plt.show() # Exibe o gráfico de pizza\n",
        "\n",
        "# Gerar gráfico de dispersão para a média de avaliação de todas as lojas\n",
        "avaliacao = [float(media_avaliacao(loja)) for loja in lojas] # Calcula a média de avaliação para cada loja\n",
        "pontos = nomes_lojas # Usa os nomes das lojas como pontos no eixo x\n",
        "\n",
        "plt.figure() # Cria uma nova figura para o gráfico de dispersão\n",
        "plt.scatter(pontos, avaliacao) # Cria o gráfico de dispersão\n",
        "plt.xlabel('Loja') # Rótulo do eixo x\n",
        "plt.ylabel('Avaliação') # Rótulo do eixo y\n",
        "plt.title('Avaliação por Loja') # Título do gráfico\n",
        "\n",
        "plt.show() # Exibe o gráfico de dispersão"
      ],
      "metadata": {
        "colab": {
          "base_uri": "https://localhost:8080/",
          "height": 472
        },
        "collapsed": true,
        "id": "BUXXUFDdPsC3",
        "outputId": "c1be9671-c1ce-4a70-ce75-f6c57612013c"
      },
      "execution_count": 251,
      "outputs": [
        {
          "output_type": "display_data",
          "data": {
            "text/plain": [
              "<Figure size 640x480 with 1 Axes>"
            ],
            "image/png": "[encoded data removed]"
          },
          "metadata": {}
        }
      ]
    },
    {
      "cell_type": "markdown",
      "source": [
        "## Relatorio\n",
        "\n",
        "Esse relatório visa a melhor escolha de venda das 4 lojas do sr. João, esse relatório levou em contas todas as metricas as seguir:\n",
        "\n",
        "\n",
        "*   O faturamento total das lojas.\n",
        "*   A média das avaliações de clientes por loja.\n",
        "*   O frete médio de cada loja.\n",
        "\n",
        "Minha decisão seria vendar a Loja 4, pq ela tem o menor faturamento, segunda menor avaliação e o unico lado positivo da loja 4 é a media dos fretes, significando que a logistica dessa loja é boa.\n",
        "\n",
        "conclusão:\n",
        "Minha conclusão seria vender a loja 4, mas antes analisar como ela possui a melhor logistica e dessa forma tentar replicar nas demais lojas.\n",
        "\n"
      ],
      "metadata": {
        "id": "BurErD_nE7eL"
      }
    },
    {
      "cell_type": "markdown",
      "metadata": {
        "id": "0d9c02c5"
      },
      "source": [
        "# Análise de Desempenho das Lojas do Sr. João\n",
        "\n",
        "Este projeto realiza uma análise detalhada do desempenho de quatro lojas fictícias pertencentes ao Sr. João. O objetivo é avaliar diversas métricas de negócio para auxiliar na tomada de decisão estratégica, especificamente na identificação de oportunidades de melhoria e na justificativa para a venda de uma das lojas.\n",
        "\n",
        "## Dados\n",
        "\n",
        "Os dados utilizados neste projeto são provenientes de arquivos CSV hospedados no GitHub, representando informações de vendas de cada uma das quatro lojas:\n",
        "\n",
        "- Loja 1: [\"https://raw.githubusercontent.com/alura-es-cursos/challenge1-data-science/refs/heads/main/base-de-dados-challenge-1/loja_1.csv\"]\n",
        "- Loja 2: [\"https://raw.githubusercontent.com/alura-es-cursos/challenge1-data-science/refs/heads/main/base-de-dados-challenge-1/loja_2.csv\"]\n",
        "- Loja 3: [\"https://raw.githubusercontent.com/alura-es-cursos/challenge1-data-science/refs/heads/main/base-de-dados-challenge-1/loja_3.csv\"]\n",
        "- Loja 4: [\"https://raw.githubusercontent.com/alura-es-cursos/challenge1-data-science/refs/heads/main/base-de-dados-challenge-1/loja_4.csv\"]\n",
        "\n",
        "Cada arquivo CSV contém as seguintes colunas:\n",
        "\n",
        "- **Produto:** Nome do produto vendido.\n",
        "- **Categoria do Produto:** Categoria à qual o produto pertence.\n",
        "- **Preço:** Preço unitário do produto.\n",
        "- **Frete:** Custo do frete para a entrega.\n",
        "- **Data da Compra:** Data em que a compra foi realizada.\n",
        "- **Vendedor:** Nome do vendedor que realizou a venda.\n",
        "- **Local da compra:** Estado onde a compra foi realizada.\n",
        "- **Avaliação da compra:** Avaliação dada pelo cliente para a compra (de 1 a 5).\n",
        "- **Tipo de pagamento:** Método de pagamento utilizado (cartão de crédito, boleto, etc.).\n",
        "- **Quantidade de parcelas:** Número de parcelas no caso de pagamento parcelado.\n",
        "- **lat:** Latitude do local da compra.\n",
        "- **lon:** Longitude do local da compra.\n",
        "\n",
        "## Análise Realizada\n",
        "\n",
        "A análise exploratória e as métricas calculadas incluem:\n",
        "\n",
        "1.  **Faturamento Total por Loja:** Cálculo da soma total dos preços dos produtos vendidos em cada loja.\n",
        "2.  **Vendas por Categoria de Produto:** Contagem da quantidade de vendas para cada categoria de produto em cada loja e no total.\n",
        "3.  **Média de Avaliação da Compra por Loja:** Cálculo da média das avaliações dos clientes para cada loja.\n",
        "4.  **Produtos Mais e Menos Vendidos:** Identificação dos produtos com maior e menor volume de vendas em cada loja.\n",
        "5.  **Frete Médio por Loja:** Cálculo do custo médio do frete por loja.\n",
        "\n",
        "## Visualizações\n",
        "\n",
        "O notebook inclui as seguintes visualizações para facilitar a compreensão dos dados:\n",
        "\n",
        "- **Gráfico de Barras do Faturamento por Loja:** Compara o faturamento total de cada uma das quatro lojas.\n",
        "- **Gráficos de Pizza da Porcentagem de Vendas por Categoria (Individual e Total):** Mostram a distribuição percentual das vendas entre as diferentes categorias de produto para cada loja e para o conjunto total de vendas.\n",
        "- **Gráfico de Dispersão da Média de Avaliação por Loja:** Visualiza a média de avaliação dos clientes para cada loja.\n",
        "\n",
        "## Relatório e Conclusão\n",
        "\n",
        "Com base nas métricas analisadas (faturamento, avaliação média e frete médio), o relatório aponta que a Loja 4 apresenta o menor faturamento e a segunda menor avaliação, embora tenha a melhor média de frete.\n",
        "\n",
        "A **conclusão** sugere a venda da Loja 4 devido ao seu desempenho inferior em faturamento e avaliação. No entanto, ressalta a importância de investigar a logística eficiente da Loja 4 (evidenciada pelo menor frete médio) para replicar essas práticas nas outras lojas antes de tomar a decisão final.\n",
        "\n",
        "Este README fornece um resumo conciso do projeto e suas principais descobertas. Para detalhes completos do código e da análise, consulte o notebook Python."
      ]
    }
  ]
}